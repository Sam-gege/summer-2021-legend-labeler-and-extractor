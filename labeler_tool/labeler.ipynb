{
 "cells": [
  {
   "cell_type": "code",
   "execution_count": 28,
   "metadata": {},
   "outputs": [],
   "source": [
    "from labeler_fcn import *\n",
    "'''select symbols and texts'''\n",
    "input_fn='89'\n",
    "canny_thres=(50,100)\n",
    "kernel=(1,3)\n",
    "symbol_text,rgb,filled=select_sym_txt(input_fn,canny_thres,kernel,\n",
    "                               size_filter=True)"
   ]
  },
  {
   "cell_type": "code",
   "execution_count": 24,
   "metadata": {},
   "outputs": [],
   "source": [
    "symbol_text1=deepcopy(symbol_text)\n",
    "'''adjust boxes'''\n",
    "adjust_boxes(symbol_text1,{\n",
    "#     '0s':['w+30'],\n",
    "#     '0t':['a-15'],\n",
    "#     '1s':['d-44'],\n",
    "#     '1t':['s+2'],\n",
    "#     '2s':['d-40'],\n",
    "#     '2t':['a-6'],\n",
    "#     '3s':['d+2'],\n",
    "#     '3t':['a-17'],\n",
    "#     '4s':['a-13'],\n",
    "#     '4t':['d-4'],\n",
    "#     '5s':['d-3'],\n",
    "#     '5t':['a-16','s-1'],\n",
    "#     '6s':['d-79'],\n",
    "#     '6t':['a-28'],\n",
    "#     '7s':['s-2'],\n",
    "#     '7t':['d+91','s+3'],\n",
    "#     '8s':['exp8'],\n",
    "#     '8t':['a+2','d-1'],\n",
    "#     '9s':['w-2','s-3'],\n",
    "#     '9t':['s+49','w-53','a+1','d+22'],\n",
    "#     '10s':['w+8','s+8','d+8'],\n",
    "#     '10t':['a+1','w+1','d-1'],\n",
    "#     '11s':['d-35'],\n",
    "#     '11t':['a-16'],\n",
    "#     '12s':['d-40'],\n",
    "#     '12t':['a-16'],\n",
    "#     '13s':['d-22'],\n",
    "#     '13t':['w+3'],\n",
    "\n",
    "})\n",
    "\n",
    "'''add texts'''\n",
    "texts_to_add=[\n",
    "'HOTEL F&B/BAR',\n",
    "'LUGGAGE & ACCESSORIES.',\n",
    "'WATCHES & ACCESSORIES.',\n",
    "'F&B',\n",
    "'FOOTWEAR',\n",
    "'FASHION.',\n",
    "'DEPARTMENT STORE',\n",
    "'HYPERMARKET',\n",
    "'SPECIALTY STORES.',\n",
    "'INNER WEAR',\n",
    "'SPORTS FOOTWEAR & APPAREL',\n",
    "'Anchors',\n",
    "'Mini Anchor',\n",
    "'Retail Inlines',\n",
    "'F&B Store',\n",
    "'Escalators',\n",
    "'Staircase',\n",
    "'Fire Exit Stairs',\n",
    "'Passenger Elevator',\n",
    "'Service Elevator',\n",
    "'Female Toilet',\n",
    "'Male Toilet',\n",
    "\n",
    "]\n",
    "add_text(symbol_text1,texts_to_add)\n",
    "draw_symbol_text(symbol_text1,OCR=False)"
   ]
  },
  {
   "cell_type": "code",
   "execution_count": 25,
   "metadata": {},
   "outputs": [],
   "source": [
    "'''save'''\n",
    "if not texts_to_add:\n",
    "    warnings.warn('You forgot to add texts!')\n",
    "else:\n",
    "    data=[[i[0].loc,i[1].loc,i[1].text] for i in symbol_text1]\n",
    "    df=pd.DataFrame(data)\n",
    "    df.columns=['symbol_loc','text_loc','text']\n",
    "    df.to_csv(f'images/labels/{input_fn}.csv',index=False)\n",
    "    cv2.imwrite(f'images/processed/{input_fn}.png', rgb)"
   ]
  },
  {
   "cell_type": "code",
   "execution_count": null,
   "metadata": {},
   "outputs": [],
   "source": []
  }
 ],
 "metadata": {
  "kernelspec": {
   "display_name": "Python 3",
   "language": "python",
   "name": "python3"
  },
  "language_info": {
   "codemirror_mode": {
    "name": "ipython",
    "version": 3
   },
   "file_extension": ".py",
   "mimetype": "text/x-python",
   "name": "python",
   "nbconvert_exporter": "python",
   "pygments_lexer": "ipython3",
   "version": "3.8.5"
  }
 },
 "nbformat": 4,
 "nbformat_minor": 4
}
