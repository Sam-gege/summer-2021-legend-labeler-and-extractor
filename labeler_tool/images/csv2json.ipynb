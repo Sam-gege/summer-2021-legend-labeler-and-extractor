{
 "cells": [
  {
   "cell_type": "code",
   "execution_count": 6,
   "metadata": {},
   "outputs": [],
   "source": [
    "from os import listdir\n",
    "from os.path import isfile, join\n",
    "from re import sub\n",
    "import pandas as pd\n",
    "import json\n",
    "# fn=[f for f in listdir('labels') if isfile(join('labels', f))]\n",
    "# fn={sub(r'.csv','',f) for f in fn}"
   ]
  },
  {
   "cell_type": "code",
   "execution_count": 7,
   "metadata": {},
   "outputs": [],
   "source": [
    "fn=['40']"
   ]
  },
  {
   "cell_type": "code",
   "execution_count": 8,
   "metadata": {},
   "outputs": [],
   "source": [
    "for f in fn:\n",
    "    c=0\n",
    "    output=dict()\n",
    "    df=pd.read_csv(f'labels/{f}.csv')\n",
    "    for i in df.iterrows():\n",
    "        s_loc=i[1][0]\n",
    "        s_loc=sub(r'\\(','',s_loc)\n",
    "        s_loc=[j.strip() for j in sub(r'\\)','',s_loc).split(',')]\n",
    "        t_loc=i[1][1]\n",
    "        t_loc=sub(r'\\(','',t_loc)\n",
    "        t_loc=[j.strip() for j in sub(r'\\)','',t_loc).split(',')]\n",
    "        text=i[1][2]\n",
    "        output[c]={'symbol_loc':{'x':int(s_loc[0]),'y':int(s_loc[1]),'w':int(s_loc[2]),'h':int(s_loc[3])},\n",
    "                  'text_loc':{'x':int(t_loc[0]),'y':int(t_loc[1]),'w':int(t_loc[2]),'h':int(t_loc[3])},\n",
    "                  'text':text}\n",
    "        c+=1\n",
    "\n",
    "    with open(f'label_truth/{f}.json', 'w') as fi:\n",
    "        json.dump(output, fi)"
   ]
  },
  {
   "cell_type": "code",
   "execution_count": 4,
   "metadata": {},
   "outputs": [],
   "source": [
    "## read json file\n",
    "with open('label_truth/77.json') as f:\n",
    "     output= json.load(f)"
   ]
  },
  {
   "cell_type": "code",
   "execution_count": 5,
   "metadata": {},
   "outputs": [
    {
     "data": {
      "text/plain": [
       "{'0': {'symbol_loc': {'x': 622, 'y': 246, 'w': 5, 'h': 12},\n",
       "  'text_loc': {'x': 647, 'y': 247, 'w': 102, 'h': 13},\n",
       "  'text': 'Gannon Building (GB)'},\n",
       " '1': {'symbol_loc': {'x': 621, 'y': 273, 'w': 8, 'h': 13},\n",
       "  'text_loc': {'x': 646, 'y': 267, 'w': 100, 'h': 26},\n",
       "  'text': 'Academic and Office Facility (AOF)'},\n",
       " '2': {'symbol_loc': {'x': 621, 'y': 299, 'w': 8, 'h': 13},\n",
       "  'text_loc': {'x': 646, 'y': 300, 'w': 95, 'h': 13},\n",
       "  'text': 'Huron Building (HB)'},\n",
       " '3': {'symbol_loc': {'x': 621, 'y': 326, 'w': 7, 'h': 13},\n",
       "  'text_loc': {'x': 646, 'y': 320, 'w': 86, 'h': 25},\n",
       "  'text': 'Washington Court Place (WCP)'},\n",
       " '4': {'symbol_loc': {'x': 621, 'y': 352, 'w': 8, 'h': 13},\n",
       "  'text_loc': {'x': 646, 'y': 354, 'w': 104, 'h': 12},\n",
       "  'text': 'University Center (UC)'},\n",
       " '5': {'symbol_loc': {'x': 621, 'y': 385, 'w': 8, 'h': 13},\n",
       "  'text_loc': {'x': 646, 'y': 374, 'w': 104, 'h': 38},\n",
       "  'text': 'Abel B. Sykes, Jr. Technology and Learning Center (TLC)'},\n",
       " '6': {'symbol_loc': {'x': 622, 'y': 418, 'w': 6, 'h': 13},\n",
       "  'text_loc': {'x': 646, 'y': 419, 'w': 119, 'h': 12},\n",
       "  'text': 'Arts and Sciences (A&S)'},\n",
       " '7': {'symbol_loc': {'x': 621, 'y': 438, 'w': 8, 'h': 13},\n",
       "  'text_loc': {'x': 647, 'y': 440, 'w': 117, 'h': 13},\n",
       "  'text': 'Mackinaw Building (MB)'},\n",
       " '8': {'symbol_loc': {'x': 621, 'y': 458, 'w': 8, 'h': 14},\n",
       "  'text_loc': {'x': 647, 'y': 460, 'w': 103, 'h': 11},\n",
       "  'text': 'Dart Auditorium (DRT)'},\n",
       " '9': {'symbol_loc': {'x': 621, 'y': 478, 'w': 15, 'h': 14},\n",
       "  'text_loc': {'x': 647, 'y': 480, 'w': 124, 'h': 12},\n",
       "  'text': 'LCC Outside Amphitheater'},\n",
       " '10': {'symbol_loc': {'x': 622, 'y': 506, 'w': 12, 'h': 13},\n",
       "  'text_loc': {'x': 646, 'y': 500, 'w': 92, 'h': 23},\n",
       "  'text': 'Michigan Veterans Memorial'},\n",
       " '11': {'symbol_loc': {'x': 622, 'y': 539, 'w': 14, 'h': 13},\n",
       "  'text_loc': {'x': 647, 'y': 533, 'w': 82, 'h': 24},\n",
       "  'text': 'Shigematsu Momedel Qenden'},\n",
       " '12': {'symbol_loc': {'x': 621, 'y': 564, 'w': 15, 'h': 14},\n",
       "  'text_loc': {'x': 647, 'y': 566, 'w': 104, 'h': 12},\n",
       "  'text': 'Herrmann House (HH)'},\n",
       " '13': {'symbol_loc': {'x': 622, 'y': 585, 'w': 14, 'h': 13},\n",
       "  'text_loc': {'x': 647, 'y': 586, 'w': 133, 'h': 13},\n",
       "  'text': 'Rogers-Carrier House (RCH)'},\n",
       " '14': {'symbol_loc': {'x': 622, 'y': 612, 'w': 14, 'h': 13},\n",
       "  'text_loc': {'x': 646, 'y': 607, 'w': 111, 'h': 25},\n",
       "  'text': 'Health and Human Services Building (HHS)'},\n",
       " '15': {'symbol_loc': {'x': 622, 'y': 645, 'w': 14, 'h': 13},\n",
       "  'text_loc': {'x': 646, 'y': 639, 'w': 118, 'h': 26},\n",
       "  'text': 'Early Learning Childrens Community (ELCC)'},\n",
       " '16': {'symbol_loc': {'x': 622, 'y': 684, 'w': 14, 'h': 13},\n",
       "  'text_loc': {'x': 646, 'y': 672, 'w': 132, 'h': 38},\n",
       "  'text': 'Paula D. Cunningham Administration Building (ADM) (includes Board Room)'},\n",
       " '17': {'symbol_loc': {'x': 622, 'y': 717, 'w': 14, 'h': 13},\n",
       "  'text_loc': {'x': 647, 'y': 719, 'w': 81, 'h': 12},\n",
       "  'text': '515 North Capitol'},\n",
       " '18': {'symbol_loc': {'x': 621, 'y': 737, 'w': 15, 'h': 13},\n",
       "  'text_loc': {'x': 647, 'y': 739, 'w': 81, 'h': 12},\n",
       "  'text': '505 North Capitol'},\n",
       " '19': {'symbol_loc': {'x': 653, 'y': 835, 'w': 17, 'h': 17},\n",
       "  'text_loc': {'x': 672, 'y': 835, 'w': 89, 'h': 17},\n",
       "  'text': 'Accessible Parking'},\n",
       " '20': {'symbol_loc': {'x': 622, 'y': 933, 'w': 21, 'h': 16},\n",
       "  'text_loc': {'x': 647, 'y': 933, 'w': 110, 'h': 16},\n",
       "  'text': 'Child Care Parking Only'},\n",
       " '21': {'symbol_loc': {'x': 622, 'y': 956, 'w': 23, 'h': 16},\n",
       "  'text_loc': {'x': 647, 'y': 956, 'w': 106, 'h': 16},\n",
       "  'text': 'Special Permit Parking'},\n",
       " '22': {'symbol_loc': {'x': 622, 'y': 1007, 'w': 8, 'h': 13},\n",
       "  'text_loc': {'x': 647, 'y': 1009, 'w': 66, 'h': 12},\n",
       "  'text': 'Gannon Ramp'}}"
      ]
     },
     "execution_count": 5,
     "metadata": {},
     "output_type": "execute_result"
    }
   ],
   "source": [
    "output"
   ]
  },
  {
   "cell_type": "code",
   "execution_count": null,
   "metadata": {},
   "outputs": [],
   "source": []
  }
 ],
 "metadata": {
  "kernelspec": {
   "display_name": "Python 3",
   "language": "python",
   "name": "python3"
  },
  "language_info": {
   "codemirror_mode": {
    "name": "ipython",
    "version": 3
   },
   "file_extension": ".py",
   "mimetype": "text/x-python",
   "name": "python",
   "nbconvert_exporter": "python",
   "pygments_lexer": "ipython3",
   "version": "3.8.5"
  }
 },
 "nbformat": 4,
 "nbformat_minor": 4
}
